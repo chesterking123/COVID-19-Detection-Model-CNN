{
 "cells": [
  {
   "cell_type": "code",
   "execution_count": 3,
   "metadata": {},
   "outputs": [],
   "source": [
    "from Train_Test_Split_Images import train_test_split_images"
   ]
  },
  {
   "cell_type": "markdown",
   "metadata": {},
   "source": [
    "# Data Segregation for COVID-19 Images"
   ]
  },
  {
   "cell_type": "code",
   "execution_count": 4,
   "metadata": {},
   "outputs": [
    {
     "name": "stdout",
     "output_type": "stream",
     "text": [
      "Total files transferred : \n",
      " Train Files : ( 351 / 351 )\n",
      " Test Files : ( 117 / 117 )\n"
     ]
    }
   ],
   "source": [
    "train_test_split_images(\"CATEGORIZED IMAGES/COVID-19\", 0.75)"
   ]
  },
  {
   "cell_type": "code",
   "execution_count": 5,
   "metadata": {},
   "outputs": [
    {
     "name": "stdout",
     "output_type": "stream",
     "text": [
      "Total files transferred : \n",
      " Train Files : ( 3 / 3 )\n",
      " Test Files : ( 1 / 1 )\n"
     ]
    }
   ],
   "source": [
    "train_test_split_images(\"CATEGORIZED IMAGES/ARDS\", 0.75)"
   ]
  },
  {
   "cell_type": "code",
   "execution_count": 6,
   "metadata": {},
   "outputs": [
    {
     "name": "stdout",
     "output_type": "stream",
     "text": [
      "Total files transferred : \n",
      " Train Files : ( 12 / 12 )\n",
      " Test Files : ( 4 / 4 )\n"
     ]
    }
   ],
   "source": [
    "train_test_split_images(\"CATEGORIZED IMAGES/SARS\", 0.75)"
   ]
  },
  {
   "cell_type": "code",
   "execution_count": 7,
   "metadata": {},
   "outputs": [
    {
     "name": "stdout",
     "output_type": "stream",
     "text": [
      "Total files transferred : \n",
      " Train Files : ( 460 / 488 )\n",
      " Test Files : ( 158 / 162 )\n"
     ]
    }
   ],
   "source": [
    "train_test_split_images(\"CATEGORIZED IMAGES/BacterialPneumonia\", 0.75)"
   ]
  },
  {
   "cell_type": "code",
   "execution_count": 8,
   "metadata": {},
   "outputs": [
    {
     "name": "stdout",
     "output_type": "stream",
     "text": [
      "Total files transferred : \n",
      " Train Files : ( 9 / 9 )\n",
      " Test Files : ( 3 / 3 )\n"
     ]
    }
   ],
   "source": [
    "train_test_split_images(\"CATEGORIZED IMAGES/COVID-19, ARDS\", 0.75)"
   ]
  },
  {
   "cell_type": "code",
   "execution_count": 9,
   "metadata": {},
   "outputs": [
    {
     "name": "stdout",
     "output_type": "stream",
     "text": [
      "Total files transferred : \n",
      " Train Files : ( 1278 / 1666 )\n",
      " Test Files : ( 501 / 555 )\n"
     ]
    }
   ],
   "source": [
    "train_test_split_images(\"CATEGORIZED IMAGES/NORMAL\", 0.75)"
   ]
  },
  {
   "cell_type": "code",
   "execution_count": 10,
   "metadata": {},
   "outputs": [
    {
     "name": "stdout",
     "output_type": "stream",
     "text": [
      "Total files transferred : \n",
      " Train Files : ( 1015 / 1318 )\n",
      " Test Files : ( 385 / 439 )\n"
     ]
    }
   ],
   "source": [
    "train_test_split_images(\"CATEGORIZED IMAGES/Viral Pneumonia\", 0.75)"
   ]
  },
  {
   "cell_type": "code",
   "execution_count": null,
   "metadata": {},
   "outputs": [],
   "source": []
  }
 ],
 "metadata": {
  "kernelspec": {
   "display_name": "Python 3",
   "language": "python",
   "name": "python3"
  },
  "language_info": {
   "codemirror_mode": {
    "name": "ipython",
    "version": 3
   },
   "file_extension": ".py",
   "mimetype": "text/x-python",
   "name": "python",
   "nbconvert_exporter": "python",
   "pygments_lexer": "ipython3",
   "version": "3.7.1"
  }
 },
 "nbformat": 4,
 "nbformat_minor": 2
}
